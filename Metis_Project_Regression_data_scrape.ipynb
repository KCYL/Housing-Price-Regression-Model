{
 "cells": [
  {
   "cell_type": "code",
   "execution_count": 10,
   "id": "e47aea64",
   "metadata": {},
   "outputs": [],
   "source": [
    "import requests\n",
    "from bs4 import BeautifulSoup as bs\n",
    "import pandas as pd \n",
    "import numpy as np \n",
    "import time, random\n",
    "import re\n",
    "import csv"
   ]
  },
  {
   "cell_type": "code",
   "execution_count": 11,
   "id": "ae2bb812",
   "metadata": {},
   "outputs": [],
   "source": [
    "header = {\"User-Agent\" : \"Mozilla/5.0 (Macintosh; Intel Mac OS X 10_15_7) AppleWebKit/537.36 (KHTML, like Gecko) Chrome/102.0.0.0 Safari/537.36\"}"
   ]
  },
  {
   "cell_type": "code",
   "execution_count": 12,
   "id": "cc87e6c4",
   "metadata": {},
   "outputs": [],
   "source": [
    "# A txt file of California county names\n",
    "with open(\"/Users/che-yuliu/Downloads/County_List_Cal.txt\") as f:\n",
    "    county = [line.strip() for line in f.readlines()]\n",
    "int_list = range(303,361)"
   ]
  },
  {
   "cell_type": "code",
   "execution_count": 13,
   "id": "22794d60",
   "metadata": {},
   "outputs": [
    {
     "data": {
      "text/plain": [
       "['303/CA/Alameda-County',\n",
       " '304/CA/Alpine-County',\n",
       " '305/CA/Amador-County',\n",
       " '306/CA/Butte-County',\n",
       " '307/CA/Calaveras-County',\n",
       " '308/CA/Colusa-County',\n",
       " '309/CA/Contra-Costa-County',\n",
       " '310/CA/Del-Norte-County',\n",
       " '311/CA/El-Dorado-County',\n",
       " '312/CA/Fresno-County',\n",
       " '313/CA/Glenn-County',\n",
       " '314/CA/Humboldt-County',\n",
       " '315/CA/Imperial-County',\n",
       " '316/CA/Inyo-County',\n",
       " '317/CA/Kern-County',\n",
       " '318/CA/Kings-County',\n",
       " '319/CA/Lake-County',\n",
       " '320/CA/Lassen-County',\n",
       " '321/CA/Los-Angeles-County',\n",
       " '322/CA/Madera-County',\n",
       " '323/CA/Marin-County',\n",
       " '324/CA/Mariposa-County',\n",
       " '325/CA/Mendocino-County',\n",
       " '326/CA/Merced-County',\n",
       " '327/CA/Modoc-County',\n",
       " '328/CA/Mono-County',\n",
       " '329/CA/Monterey-County',\n",
       " '330/CA/Napa-County',\n",
       " '331/CA/Nevada-County',\n",
       " '332/CA/Orange-County',\n",
       " '333/CA/Placer-County',\n",
       " '334/CA/Plumas-County',\n",
       " '335/CA/Riverside-County',\n",
       " '336/CA/Sacramento-County',\n",
       " '337/CA/San-Benito-County',\n",
       " '338/CA/San-Bernardino-County',\n",
       " '339/CA/San-Diego-County',\n",
       " '340/CA/San-Francisco-County',\n",
       " '341/CA/San-Joaquin-County',\n",
       " '342/CA/San-Luis-Obispo-County',\n",
       " '343/CA/San-Mateo-County',\n",
       " '344/CA/Santa-Barbara-County',\n",
       " '345/CA/Santa-Clara-County',\n",
       " '346/CA/Santa-Cruz-County',\n",
       " '347/CA/Shasta-County',\n",
       " '348/CA/Sierra-County',\n",
       " '349/CA/Siskiyou-County',\n",
       " '350/CA/Solano-County',\n",
       " '351/CA/Sonoma-County',\n",
       " '352/CA/Stanislaus-County',\n",
       " '353/CA/Sutter-County',\n",
       " '354/CA/Tehama-County',\n",
       " '355/CA/Tuolumne-County',\n",
       " '356/CA/Trinity-County',\n",
       " '357/CA/Tulare-County',\n",
       " '358/CA/Ventura-County',\n",
       " '359/CA/Yolo-County',\n",
       " '360/CA/Yuba-County']"
      ]
     },
     "execution_count": 13,
     "metadata": {},
     "output_type": "execute_result"
    }
   ],
   "source": [
    "# This list will aid in getting the full URL for each county in California.\n",
    "county_list = []\n",
    "for i in range(len(county)):\n",
    "    county_list.append(f\"{int_list[i]}/CA/{county[i]}\")\n",
    "county_list"
   ]
  },
  {
   "cell_type": "code",
   "execution_count": 28,
   "id": "c99c65f0",
   "metadata": {},
   "outputs": [
    {
     "data": {
      "text/plain": [
       "200"
      ]
     },
     "execution_count": 28,
     "metadata": {},
     "output_type": "execute_result"
    }
   ],
   "source": [
    "# Testing to see \n",
    "url1= \"https://www.redfin.com/county/303/CA/Alameda-County\"\n",
    "\n",
    "response = requests.get(url1, headers = header)\n",
    "response.status_code"
   ]
  },
  {
   "cell_type": "code",
   "execution_count": 29,
   "id": "3fb82e46",
   "metadata": {},
   "outputs": [],
   "source": [
    "# Code idea obtained from Metis webscraping exercise 8 solutions\n",
    "redfin_links = []\n",
    "\n",
    "base_url = \"https://www.redfin.com/county/\"\n",
    "url_list = [base_url + str(i) for i in county_list]\n",
    "\n",
    "for index, url in enumerate(url_list):\n",
    "    if index %5 == 0: \n",
    "        time.sleep(4+2*random.random())\n",
    "    page = requests.get(url, headers = header).text\n",
    "    soup = bs(page)\n",
    "\n",
    "    for div in soup.find_all(class_ =\"bottomV2\"):\n",
    "        base_link = 'https://www.redfin.com/'\n",
    "        a_tag = div.find('a')\n",
    "        a_link = a_tag['href']\n",
    "        #Concatenates the base link to \n",
    "        h_links = base_link + a_link\n",
    "        #Appends full links to a list \n",
    "        redfin_links.append(h_links)"
   ]
  },
  {
   "cell_type": "code",
   "execution_count": 31,
   "id": "38a8ac9a",
   "metadata": {},
   "outputs": [],
   "source": [
    "with open('/Users/che-yuliu/Desktop/redfin_links.csv', 'w', encoding = \"UTF8\",newline = \"\") as z:\n",
    "    quill = csv.writer(z)\n",
    "    for link in redfin_links:\n",
    "        \n",
    "        quill.writerow([link])\n"
   ]
  },
  {
   "cell_type": "code",
   "execution_count": 136,
   "id": "62587a08",
   "metadata": {},
   "outputs": [],
   "source": [
    "listing_details = [\"address\", \"price\", \"bedrooms\", \"baths\", \n",
    "                                 \"square_ft\", \"total_time_listed\", \"property_type\", \n",
    "                                \"year_built\", \"hoa_dues\", \"community\", \n",
    "                                 \"lot_size\", \"price/sqft\"]\n",
    "with open(\"/Users/che-yuliu/Desktop/listings.csv\", \"w\", encoding = \"UTF8\",newline = \"\") as p:\n",
    "    writer = csv.DictWriter(p, fieldnames = listing_details)\n",
    "    writer.writeheader()\n",
    "    writer.writerows(listing_info)\n",
    "    "
   ]
  },
  {
   "cell_type": "code",
   "execution_count": 104,
   "id": "f81f0711",
   "metadata": {},
   "outputs": [],
   "source": [
    "# This function serves to grab certain parts of an beautifulsoup object. \n",
    "\n",
    "def get_info(r, home_deets):\n",
    "    \n",
    "    find_tag = r.find_all(class_ = \"keyDetail font-weight-roman font-size-base\")\n",
    "    for q in find_tag:\n",
    " \n",
    "        find_span = q.find(\"span\").text\n",
    "      \n",
    "        if find_span == home_deets:\n",
    "\n",
    "            span2 = q.find(\"span\").next.next.text\n",
    "        \n",
    "            return span2\n",
    "    return None \n",
    "\n",
    "\n"
   ]
  },
  {
   "cell_type": "code",
   "execution_count": 225,
   "id": "7c33d7a0",
   "metadata": {},
   "outputs": [],
   "source": [
    "# Getting data from specific redfin housing listings and appending it to a csv file.\n",
    "\n",
    "listing_info = []\n",
    "\n",
    "for index, URL in enumerate(redfin_links[0:3]):\n",
    "    if index %5 == 0:\n",
    "        time.sleep(1+2*random.random())\n",
    "    listing_tag = requests.get(URL, headers = header).text\n",
    "    listing_page = bs(listing_tag)\n",
    "    \n",
    "    for r in listing_page.find_all(class_=\"alongTheRail\"):\n",
    "        try:\n",
    "            #gets the address tag by looking for the class homeAddress\n",
    "            address_tag = r.find(class_=\"homeAddress\")\n",
    "            #turns it in to a bs text \n",
    "            address = address_tag.text.split(\",\")[0]\n",
    "            #gets the price tag  \n",
    "            price_tag = r.find(\"div\", class_=\"stat-block beds-section\").next\n",
    "            price = price_tag.text[1:].replace(\",\", \"\")\n",
    "            #gets the bed tag\n",
    "            bed_tag = r.find_all(\"div\", class_=\"stat-block beds-section\")[1]\n",
    "            bed = bed_tag.text.split(\"B\")[0]\n",
    "            #gets bathroom tag\n",
    "            bath_tag = r.find(class_ = \"stat-block baths-section\").next\n",
    "            bath = bath_tag.text\n",
    "            #gets square footage of house\n",
    "            sqft_tag = r.find(class_ = \"stat-block sqft-section\").next\n",
    "            sqft = sqft_tag.text.replace(\",\", \"\")\n",
    "            # gets amount of time on redfin\n",
    "            redtime = get_info(r, \"Time on Redfin\")\n",
    "            # gets type of property\n",
    "            proptype = get_info(r, \"Property Type\")\n",
    "            # getting year built \n",
    "            yr_built = get_info(r, \"Year Built\")\n",
    "            hoa_dues = get_info(r, \"HOA Dues\")\n",
    "            community = get_info(r, \"Community\")\n",
    "            lot_size = get_info(r, \"Lot Size\")\n",
    "            price_sqft = get_info(r, \"Price/Sq.Ft.\")\n",
    "            #appending the bs text into a dictionary -- later append it to an excel file or a csv\n",
    "            listing_info.append({\"address\": address, \"price\": price, \"bedrooms\": bed, \"baths\" : bath, \n",
    "                                 \"square_ft\" : sqft, \"total_time_listed\" : redtime, \"property_type\" : proptype, \n",
    "                                \"year_built\" : yr_built, \"hoa_dues\" : hoa_dues, \"community\" : community, \n",
    "                                 \"lot_size\" : lot_size, \"price/sqft\" : price_sqft})\n",
    "        except:\n",
    "            print(\"nothing to assign\")\n"
   ]
  },
  {
   "cell_type": "code",
   "execution_count": 217,
   "id": "f962440d",
   "metadata": {},
   "outputs": [],
   "source": [
    "with open(\"/Users/che-yuliu/Desktop/listings.csv\", \"a\", encoding = \"UTF8\",newline = \"\") as p:\n",
    "    writer = csv.DictWriter(p, fieldnames = listing_details)\n",
    "    writer.writerows(listing_info)"
   ]
  },
  {
   "cell_type": "code",
   "execution_count": 226,
   "id": "3ac5adb1",
   "metadata": {},
   "outputs": [
    {
     "data": {
      "text/html": [
       "<div>\n",
       "<style scoped>\n",
       "    .dataframe tbody tr th:only-of-type {\n",
       "        vertical-align: middle;\n",
       "    }\n",
       "\n",
       "    .dataframe tbody tr th {\n",
       "        vertical-align: top;\n",
       "    }\n",
       "\n",
       "    .dataframe thead th {\n",
       "        text-align: right;\n",
       "    }\n",
       "</style>\n",
       "<table border=\"1\" class=\"dataframe\">\n",
       "  <thead>\n",
       "    <tr style=\"text-align: right;\">\n",
       "      <th></th>\n",
       "      <th>address</th>\n",
       "      <th>price</th>\n",
       "      <th>bedrooms</th>\n",
       "      <th>baths</th>\n",
       "      <th>square_ft</th>\n",
       "      <th>total_time_listed</th>\n",
       "      <th>property_type</th>\n",
       "      <th>year_built</th>\n",
       "      <th>hoa_dues</th>\n",
       "      <th>community</th>\n",
       "      <th>lot_size</th>\n",
       "      <th>price/sqft</th>\n",
       "    </tr>\n",
       "  </thead>\n",
       "  <tbody>\n",
       "    <tr>\n",
       "      <th>0</th>\n",
       "      <td>11643 Silvergate Dr</td>\n",
       "      <td>1690000</td>\n",
       "      <td>4</td>\n",
       "      <td>2</td>\n",
       "      <td>1888</td>\n",
       "      <td>None</td>\n",
       "      <td>None</td>\n",
       "      <td>None</td>\n",
       "      <td>None</td>\n",
       "      <td>None</td>\n",
       "      <td>None</td>\n",
       "      <td>None</td>\n",
       "    </tr>\n",
       "    <tr>\n",
       "      <th>1</th>\n",
       "      <td>7806 Peachtree Ave</td>\n",
       "      <td>1249888</td>\n",
       "      <td>3</td>\n",
       "      <td>2.5</td>\n",
       "      <td>1356</td>\n",
       "      <td>None</td>\n",
       "      <td>None</td>\n",
       "      <td>None</td>\n",
       "      <td>None</td>\n",
       "      <td>None</td>\n",
       "      <td>None</td>\n",
       "      <td>None</td>\n",
       "    </tr>\n",
       "    <tr>\n",
       "      <th>2</th>\n",
       "      <td>38746 Buckboard Cmn</td>\n",
       "      <td>1298000</td>\n",
       "      <td>3</td>\n",
       "      <td>2.5</td>\n",
       "      <td>1780</td>\n",
       "      <td>None</td>\n",
       "      <td>None</td>\n",
       "      <td>None</td>\n",
       "      <td>None</td>\n",
       "      <td>None</td>\n",
       "      <td>None</td>\n",
       "      <td>None</td>\n",
       "    </tr>\n",
       "  </tbody>\n",
       "</table>\n",
       "</div>"
      ],
      "text/plain": [
       "               address    price bedrooms baths square_ft total_time_listed  \\\n",
       "0  11643 Silvergate Dr  1690000        4     2      1888              None   \n",
       "1   7806 Peachtree Ave  1249888        3   2.5      1356              None   \n",
       "2  38746 Buckboard Cmn  1298000        3   2.5      1780              None   \n",
       "\n",
       "  property_type year_built hoa_dues community lot_size price/sqft  \n",
       "0          None       None     None      None     None       None  \n",
       "1          None       None     None      None     None       None  \n",
       "2          None       None     None      None     None       None  "
      ]
     },
     "execution_count": 226,
     "metadata": {},
     "output_type": "execute_result"
    }
   ],
   "source": [
    "df = pd.DataFrame(listing_info)\n",
    "df"
   ]
  },
  {
   "cell_type": "code",
   "execution_count": null,
   "id": "22116fee",
   "metadata": {},
   "outputs": [],
   "source": []
  },
  {
   "cell_type": "code",
   "execution_count": null,
   "id": "ea0a37ba",
   "metadata": {},
   "outputs": [],
   "source": []
  }
 ],
 "metadata": {
  "kernelspec": {
   "display_name": "Python 3 (regression)",
   "language": "python",
   "name": "regression"
  },
  "language_info": {
   "codemirror_mode": {
    "name": "ipython",
    "version": 3
   },
   "file_extension": ".py",
   "mimetype": "text/x-python",
   "name": "python",
   "nbconvert_exporter": "python",
   "pygments_lexer": "ipython3",
   "version": "3.9.12"
  }
 },
 "nbformat": 4,
 "nbformat_minor": 5
}
